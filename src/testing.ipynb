{
 "cells": [
  {
   "cell_type": "code",
   "execution_count": null,
   "metadata": {},
   "outputs": [],
   "source": [
    "# need to get RaceResult 15-16-17\n",
    "# need to get Workout 0-1"
   ]
  },
  {
   "cell_type": "code",
   "execution_count": null,
   "metadata": {},
   "outputs": [],
   "source": [
    "import pandas as pd\n",
    "import numpy as np\n",
    "import matplotlib.pyplot as plt"
   ]
  },
  {
   "cell_type": "code",
   "execution_count": null,
   "metadata": {},
   "outputs": [],
   "source": [
    "injury_raw = pd.read_csv('../../hisa-data/injury.csv')\n",
    "vets_list_raw = pd.read_csv('../../hisa-data/vets_list.csv')\n",
    "people_raw = pd.read_csv('../../hisa-data/people.csv')\n",
    "race_result0_raw = pd.read_parquet('../../hisa-data/race_result0.parquet')\n",
    "#race_result0_raw = race_result0_raw.iloc[0:10000]"
   ]
  },
  {
   "cell_type": "code",
   "execution_count": null,
   "metadata": {},
   "outputs": [],
   "source": [
    "def clean_injury_data(df: pd.DataFrame) -> pd.DataFrame:\n",
    "    injury = []\n",
    "    for _, row in df.iterrows():\n",
    "        try:\n",
    "            horse_id = row['Horses'].split('HisaHorseId\":\"')[1].split('\"')[0]\n",
    "        except AttributeError:\n",
    "            # NULL value\n",
    "            horse_id = None\n",
    "        except IndexError:\n",
    "            # string split error\n",
    "            horse_id = None\n",
    "\n",
    "        try:\n",
    "            responsible_person_id = row['Horses'].split('ResponsiblePersonHisaId\":\"')[1].split('\"')[0]\n",
    "        except AttributeError:\n",
    "            # NULL value\n",
    "            responsible_person_id = None\n",
    "        except IndexError:\n",
    "            # string split error\n",
    "            responsible_person_id = None\n",
    "\n",
    "        injury.append({\n",
    "            'date': row['DateOfInjury'],\n",
    "            'injury_id': row['HisaInjuryId'],\n",
    "            'horse_id': horse_id,\n",
    "            'responsible_person_id': responsible_person_id,\n",
    "            'vets_list_id': row['RelatedVetsListId'],\n",
    "            'location_id': row['LocationId'],\n",
    "            'injury_type': row['Type'],\n",
    "            'circumstances': row['Circumstance'],\n",
    "            'race_number': row['RaceNumber'],\n",
    "        })\n",
    "\n",
    "    return pd.DataFrame(injury)\n"
   ]
  },
  {
   "cell_type": "code",
   "execution_count": null,
   "metadata": {},
   "outputs": [],
   "source": [
    "def clean_vets_list_data(df: pd.DataFrame) -> pd.DataFrame:\n",
    "    \n",
    "    vets_list = df[['VetsListId', 'HisaHorseId', 'CurrentResponsiblePersonId', 'LocationId', 'DatePlacedOnList', 'DateToComeOffList', 'DaysOnList', 'Reason', 'OtherStateReason']]\n",
    "    vets_list.columns = ['vets_list_id', 'horse_id', 'responsible_person_id', 'location_id', 'date_on_list', 'date_off_list', 'days_on_list', 'reason', 'other_reason']\n",
    "\n",
    "    return vets_list\n"
   ]
  },
  {
   "cell_type": "code",
   "execution_count": null,
   "metadata": {},
   "outputs": [],
   "source": [
    "def clean_people_data(df: pd.DataFrame) -> pd.DataFrame:\n",
    "    \n",
    "    df['trainer'] = np.where(\n",
    "        df['Roles'].str.contains('Trainer'),\n",
    "        1,\n",
    "        0\n",
    "    )\n",
    "\n",
    "    df = df[['HisaPersonId', 'DisplayName', 'trainer']]\n",
    "    df = df.rename(columns={\n",
    "        'HisaPersonId': 'person_id',\n",
    "        'DisplayName': 'name',\n",
    "        'trainer': 'is_trainer'\n",
    "    })\n",
    "\n",
    "    return df"
   ]
  },
  {
   "cell_type": "code",
   "execution_count": null,
   "metadata": {},
   "outputs": [],
   "source": [
    "def clean_race_results_data(df: pd.DataFrame) -> pd.DataFrame:\n",
    "    columns = {\n",
    "        'PostPosition': 'post_position',\n",
    "        'Race_RaceNumber': 'race_number',\n",
    "        'Horse_Foaled': 'horse_foaled_date',\n",
    "        'OfficialPosition': 'finish',\n",
    "        'Race_Date': 'race_date',\n",
    "        'Horse_HisaId': 'horse_id',\n",
    "        'Horse_ReferenceNumber': 'horse_reference_number',\n",
    "        'Horse_Name': 'horse_name', \n",
    "        'Race_Condition': 'race_condition',\n",
    "        'Race_Purse' : 'purse',\n",
    "        'Race_LocationId' : 'location_id',\n",
    "        'Race_LocationCode': 'location_code',\n",
    "        'Race_ClaimingPrice': 'claiming_price',\n",
    "        'Race_LocationName': 'location_name',\n",
    "        'Race_Type': 'race_type',\n",
    "        'Race_DistanceFurlong': 'race_distance',\n",
    "        'Race_Course': 'surface',\n",
    "        'Trainer_HisaId': 'trainer_id',\n",
    "        'Trainer_LastName' : 'trainer_last_name',\n",
    "        'Trainer_FirstName': 'trainer_first_name',\n",
    "        'Trainer_ReferenceNumber': 'trainer_reference_number',\n",
    "        'Scratched': 'scratched_bool',\n",
    "        'Earnings': 'earnings',\n",
    "        'Odds': 'odds',\n",
    "        'Dnf': 'dnf_bool',\n",
    "        'ProgramNumber': 'program_number'\n",
    "    }\n",
    "\n",
    "    df = df[[c for c in columns.keys()]].rename(columns=columns)\n",
    "    df['scratched'] = np.where(\n",
    "        df['scratched_bool'],\n",
    "        1,\n",
    "        0\n",
    "    )\n",
    "\n",
    "    df['dnf'] = np.where(\n",
    "        df['dnf_bool'],\n",
    "        1,\n",
    "        0\n",
    "    )\n",
    "\n",
    "    df = df.drop(['scratched_bool', 'dnf_bool'], axis=1)\n",
    "    df = df.sort_values(by=['horse_reference_number', 'race_date'])\n",
    "\n",
    "    df = df[df['horse_reference_number'] != 0]\n",
    "\n",
    "    return df\n"
   ]
  },
  {
   "cell_type": "code",
   "execution_count": null,
   "metadata": {},
   "outputs": [],
   "source": [
    "injury = clean_injury_data(injury_raw)\n",
    "injury.head(2)"
   ]
  },
  {
   "cell_type": "code",
   "execution_count": null,
   "metadata": {},
   "outputs": [],
   "source": [
    "vets_list = clean_vets_list_data(vets_list_raw)\n",
    "vets_list.head(2)"
   ]
  },
  {
   "cell_type": "code",
   "execution_count": null,
   "metadata": {},
   "outputs": [],
   "source": [
    "people = clean_people_data(people_raw)\n",
    "people.head(2)"
   ]
  },
  {
   "cell_type": "code",
   "execution_count": null,
   "metadata": {},
   "outputs": [],
   "source": [
    "race_results = clean_race_results_data(race_result0_raw)\n",
    "del race_result0_raw\n",
    "race_results.head(2)"
   ]
  },
  {
   "cell_type": "code",
   "execution_count": null,
   "metadata": {},
   "outputs": [],
   "source": [
    "race_results.columns"
   ]
  },
  {
   "cell_type": "code",
   "execution_count": null,
   "metadata": {},
   "outputs": [],
   "source": [
    "race_results['age'] = (race_results['race_date'] - race_results['horse_foaled_date']).dt.days\n",
    "df = race_results.copy()\n",
    "\n",
    "\n",
    "df['previous_race_date'] = df.groupby('horse_reference_number')['race_date'].shift(1)\n",
    "df['previous_race_dnf'] = df.groupby('horse_reference_number')['dnf'].shift(1)\n",
    "df['previous_race_scratch'] = df.groupby('horse_reference_number')['scratched'].shift(1)\n",
    "df['previous_race_distance'] = df.groupby('horse_reference_number')['race_distance'].shift(1)\n",
    "df['previous_surface'] = df.groupby('horse_reference_number')['surface'].shift(1)\n",
    "df['days_since_last_race'] = (df['race_date'] - df['previous_race_date']).dt.days\n",
    "\n",
    "\n",
    "\n",
    "df['distance_delta'] = df['race_distance'] - df['previous_race_distance']\n",
    "df['distance_jump'] = np.where(\n",
    "    df['distance_delta'] > 2,\n",
    "    1,\n",
    "    0\n",
    ")\n",
    "\n",
    "df['rest_after_dnf'] = np.where(\n",
    "    df['previous_race_dnf'] == 1,\n",
    "    df['days_since_last_race'],\n",
    "    None\n",
    ")\n",
    "\n",
    "df['rest_after_scratch'] = np.where(\n",
    "    df['previous_race_scratch'] == 1,\n",
    "    df['days_since_last_race'],\n",
    "    None\n",
    ")\n",
    "\n",
    "df['surface_change'] = np.where(\n",
    "    df['surface'] != df['previous_surface'],\n",
    "    1,\n",
    "    0\n",
    ")\n",
    "\n",
    "# maybe should account for covid\n",
    "df['long_layoff'] = np.where(\n",
    "    df['days_since_last_race'] > 365,\n",
    "    1,\n",
    "    0\n",
    ")\n",
    "\n",
    "first_long = df[df['race_distance'] > 8].sort_values(by=['race_date']).groupby(['horse_reference_number', 'trainer_reference_number', 'trainer_last_name', 'trainer_first_name']).first().reset_index()\n"
   ]
  },
  {
   "cell_type": "code",
   "execution_count": null,
   "metadata": {},
   "outputs": [],
   "source": [
    "df[df['horse_reference_number'] == 10072913][['race_date', 'window_start', 'races_in_last_30_days']]"
   ]
  },
  {
   "cell_type": "code",
   "execution_count": null,
   "metadata": {},
   "outputs": [],
   "source": [
    "trainers = df.groupby(['trainer_reference_number', 'trainer_last_name', 'trainer_first_name']).agg({\n",
    "    'race_number': 'count',\n",
    "    'horse_reference_number': 'nunique',\n",
    "    'scratched': 'sum',\n",
    "    'dnf': 'sum',\n",
    "    'age': 'min',\n",
    "    'days_since_last_race': ['min', 'median'],\n",
    "    'rest_after_dnf': 'median',\n",
    "    'rest_after_scratch': 'median',\n",
    "    'distance_jump': 'sum',\n",
    "    'surface_change': 'sum',\n",
    "    'long_layoff': 'sum',\n",
    "}).reset_index()\n",
    "\n",
    "trainers.columns = ['trainer_reference_number', 'trainer_last_name', 'trainer_first_name', \n",
    "'n_entries', 'unique_horses', 'scratched', 'dnf', 'min_age', 'days_since_last_race_min', 'days_since_last_race_median', \n",
    "'rest_after_dnf_median', 'rest_after_scratch_median', 'distance_jumps', 'surface_changes', 'long_layoffs',\n",
    "\n",
    "]\n",
    "\n",
    "trainers['scratches_per_entry'] = trainers['scratched'] / trainers['n_entries']\n",
    "trainers['dnf_per_entry'] = trainers['dnf'] / trainers['n_entries']\n",
    "\n",
    "trainer_first_long = first_long.groupby(['trainer_reference_number', 'trainer_last_name', 'trainer_first_name']).agg({\n",
    "    'age': 'median'\n",
    "}).reset_index().rename(columns={'age': 'first_long_age'})\n",
    "\n",
    "trainers = trainers.merge(trainer_first_long, on=['trainer_reference_number', 'trainer_last_name', 'trainer_first_name'], how='left')"
   ]
  },
  {
   "cell_type": "code",
   "execution_count": null,
   "metadata": {},
   "outputs": [],
   "source": [
    "trainers.head(2)"
   ]
  },
  {
   "cell_type": "code",
   "execution_count": null,
   "metadata": {},
   "outputs": [],
   "source": []
  },
  {
   "cell_type": "code",
   "execution_count": null,
   "metadata": {},
   "outputs": [],
   "source": []
  },
  {
   "cell_type": "code",
   "execution_count": null,
   "metadata": {},
   "outputs": [],
   "source": []
  },
  {
   "cell_type": "code",
   "execution_count": null,
   "metadata": {},
   "outputs": [],
   "source": []
  },
  {
   "cell_type": "code",
   "execution_count": null,
   "metadata": {},
   "outputs": [],
   "source": []
  },
  {
   "cell_type": "code",
   "execution_count": null,
   "metadata": {},
   "outputs": [],
   "source": []
  },
  {
   "cell_type": "code",
   "execution_count": null,
   "metadata": {},
   "outputs": [],
   "source": [
    "plt.hist(trainers['days_since_last_race_median'], color='blue', edgecolor='black', bins=50, alpha=0.5, density=True)\n",
    "plt.hist(trainers['rest_after_scratch_median'], color='red', edgecolor='black', bins=50, alpha=0.5, density=True)\n",
    "plt.hist(trainers['rest_after_dnf_median'], color='black', edgecolor='black', bins=50, alpha=0.5, density=True)\n",
    "plt.show()"
   ]
  },
  {
   "cell_type": "markdown",
   "metadata": {},
   "source": [
    "In race results need to do some processing then can aggregate on trainer\n",
    "- median min age of all trainer's horses\n",
    "- races last N days\n",
    "- longer layoffs for distance / surface / condition?\n",
    "- lost by N+ lengths \n",
    "- medications\n",
    "- travel ?\n",
    "\n",
    "\n",
    "for an expected model,\n",
    "- temperature/weather\n",
    "- sex\n",
    "- class\n",
    "- surface\n",
    "- condtions\n",
    "- age\n",
    "- surface fast/slow\n",
    "\n",
    "\n",
    "\n",
    "\n"
   ]
  },
  {
   "cell_type": "markdown",
   "metadata": {},
   "source": []
  },
  {
   "cell_type": "code",
   "execution_count": null,
   "metadata": {},
   "outputs": [],
   "source": []
  },
  {
   "cell_type": "code",
   "execution_count": null,
   "metadata": {},
   "outputs": [],
   "source": [
    "race_results.columns"
   ]
  },
  {
   "cell_type": "code",
   "execution_count": null,
   "metadata": {},
   "outputs": [],
   "source": [
    "injury.head(2)"
   ]
  },
  {
   "cell_type": "code",
   "execution_count": null,
   "metadata": {},
   "outputs": [],
   "source": [
    "injury['circumstances'].value_counts()"
   ]
  },
  {
   "cell_type": "code",
   "execution_count": null,
   "metadata": {},
   "outputs": [],
   "source": []
  },
  {
   "cell_type": "code",
   "execution_count": null,
   "metadata": {},
   "outputs": [],
   "source": []
  },
  {
   "cell_type": "code",
   "execution_count": null,
   "metadata": {},
   "outputs": [],
   "source": []
  },
  {
   "cell_type": "markdown",
   "metadata": {},
   "source": [
    "# Races RTR"
   ]
  },
  {
   "cell_type": "code",
   "execution_count": null,
   "metadata": {},
   "outputs": [],
   "source": [
    "import pandas as pd\n",
    "import numpy as np\n",
    "import matplotlib.pyplot as plt"
   ]
  },
  {
   "cell_type": "code",
   "execution_count": null,
   "metadata": {},
   "outputs": [],
   "source": [
    "df = pd.read_csv('../../hisa-data/trainer_uvwxyz.csv')\n",
    "\n",
    "df.columns"
   ]
  },
  {
   "cell_type": "code",
   "execution_count": null,
   "metadata": {},
   "outputs": [],
   "source": [
    "df['distance'].value_counts()\n",
    "\n",
    "DISTANCE_LOOKUP = {\n",
    "    '4 1/2 F': 4.5,\n",
    "    '5 F': 5,\n",
    "    '5 1/2 F': 5.5,\n",
    "    '6 F': 6,\n",
    "    '6 1/2 F': 6.5,\n",
    "    '7 F': 7,\n",
    "    '7 1/2 F': 7.5,\n",
    "    '1 M': 8,\n",
    "    '1 M 40 Y': 8.18,\n",
    "    '1 M 70 Y': 8.32,\n",
    "    '1 1/16 M': 8.5,\n",
    "    '1 1/8 M': 9,\n",
    "    '1 3/16 M': 9.5,\n",
    "    '1 1/4 M': 10,\n",
    "    '1 7/16 M': 11.5,\n",
    "    '1 5/8 M': 13,\n",
    "\n",
    "}"
   ]
  },
  {
   "cell_type": "code",
   "execution_count": null,
   "metadata": {},
   "outputs": [],
   "source": [
    "df['race_date'] = pd.to_datetime(df['race_date'], format='%Y-%m-%d')\n",
    "#df['purse'] = df['purse'].str.replace('$', '').str.replace(',', '').astype(float)\n",
    "df['race_distance'] = df['distance'].map(DISTANCE_LOOKUP)\n",
    "df['age'] = np.abs(df['age'])\n",
    "\n",
    "\n",
    "df = df.sort_values(by=['registration_number', 'race_date'])\n",
    "df['previous_race_date'] = df.groupby('registration_number')['race_date'].shift(1)\n",
    "df['previous_race_dnf'] = df.groupby('registration_number')['dnf'].shift(1)\n",
    "df['previous_race_distance'] = df.groupby('registration_number')['race_distance'].shift(1)\n",
    "df['previous_surface'] = df.groupby('registration_number')['surface'].shift(1)\n",
    "df['days_since_last_race'] = (df['race_date'] - df['previous_race_date']).dt.days\n",
    "\n",
    "\n",
    "\n",
    "df['distance_delta'] = df['race_distance'] - df['previous_race_distance']\n",
    "df['distance_jump'] = np.where(\n",
    "    df['distance_delta'] > 2,\n",
    "    1,\n",
    "    0\n",
    ")\n",
    "\n",
    "df['rest_after_dnf'] = np.where(\n",
    "    df['previous_race_dnf'] == 1,\n",
    "    df['days_since_last_race'],\n",
    "    None\n",
    ")\n",
    "\n",
    "df['surface_change'] = np.where(\n",
    "    df['surface'] != df['previous_surface'],\n",
    "    1,\n",
    "    0\n",
    ")\n",
    "\n",
    "# maybe should account for covid\n",
    "df['long_layoff'] = np.where(\n",
    "    df['days_since_last_race'] > 365,\n",
    "    1,\n",
    "    0\n",
    ")\n",
    "\n",
    "first_long = df[df['race_distance'] > 8].sort_values(by=['race_date']).groupby(['registration_number', 'trainer_name']).first().reset_index()\n",
    "first_start = df.drop_duplicates('registration_number').groupby(['trainer_name']).agg({\n",
    "    'age': 'median',\n",
    "    'race_distance': 'median',\n",
    "}).reset_index().rename(columns={\n",
    "    'age': 'median_first_start_age',\n",
    "    'race_distance': 'median_first_race_distance'\n",
    "})\n"
   ]
  },
  {
   "cell_type": "code",
   "execution_count": null,
   "metadata": {},
   "outputs": [],
   "source": [
    "trainers = df.groupby(['trainer_name']).agg({\n",
    "    'race_number': 'count',\n",
    "    'registration_number': 'nunique',\n",
    "    #'scratched': 'sum',\n",
    "    'dnf': 'sum',\n",
    "    'age': 'min',\n",
    "    'days_since_last_race': ['min', 'median'],\n",
    "    'rest_after_dnf': 'median',\n",
    "    #'rest_after_scratch': 'median',\n",
    "    'distance_jump': 'mean',\n",
    "    'surface_change': 'mean',\n",
    "    'long_layoff': 'mean',\n",
    "}).reset_index()\n",
    "\n",
    "trainers.columns = ['trainer_name',\n",
    "'n_entries', 'unique_horses', 'dnf', 'min_age', 'days_since_last_race_min', 'days_since_last_race_median', \n",
    "'rest_after_dnf_median', 'distance_jumps', 'surface_changes', 'long_layoffs',\n",
    "\n",
    "]\n",
    "\n",
    "#trainers['scratches_per_entry'] = trainers['scratched'] / trainers['n_entries']\n",
    "trainers['dnf_per_entry'] = trainers['dnf'] / trainers['n_entries']\n",
    "\n",
    "trainer_first_long = first_long.groupby(['trainer_name']).agg({\n",
    "    'age': 'median'\n",
    "}).reset_index().rename(columns={'age': 'first_long_age'})\n",
    "\n",
    "trainers = trainers.merge(trainer_first_long, on=['trainer_name'], how='left')\n",
    "trainers = trainers.merge(first_start, on=['trainer_name'], how='left')"
   ]
  },
  {
   "cell_type": "code",
   "execution_count": null,
   "metadata": {},
   "outputs": [],
   "source": [
    "del df\n",
    "trainers.sort_values('n_entries', ascending=False).head(4)"
   ]
  },
  {
   "cell_type": "code",
   "execution_count": null,
   "metadata": {},
   "outputs": [],
   "source": [
    "from sklearn.linear_model import LinearRegression"
   ]
  },
  {
   "cell_type": "code",
   "execution_count": null,
   "metadata": {},
   "outputs": [],
   "source": [
    "trainers = trainers[trainers['n_entries'] > 100]"
   ]
  },
  {
   "cell_type": "code",
   "execution_count": null,
   "metadata": {},
   "outputs": [],
   "source": [
    "X = trainers.set_index('trainer_name')[['min_age',\n",
    "       'days_since_last_race_min', 'days_since_last_race_median',\n",
    "       'rest_after_dnf_median', 'distance_jumps', 'surface_changes',\n",
    "       'long_layoffs', 'first_long_age',\n",
    "       'median_first_start_age', 'median_first_race_distance']].fillna(0)\n",
    "\n",
    "y = trainers.set_index('trainer_name')[['dnf_per_entry']].fillna(0)"
   ]
  },
  {
   "cell_type": "code",
   "execution_count": null,
   "metadata": {},
   "outputs": [],
   "source": [
    "lr = LinearRegression()\n",
    "lr.fit(X, y)\n",
    "lr.score(X,y)"
   ]
  },
  {
   "cell_type": "code",
   "execution_count": null,
   "metadata": {},
   "outputs": [],
   "source": [
    "for col, coef in zip(X.columns, lr.coef_[0]):\n",
    "    print(f'{col}: {coef}')"
   ]
  },
  {
   "cell_type": "code",
   "execution_count": null,
   "metadata": {},
   "outputs": [],
   "source": [
    "plt.scatter(lr.predict(X), y)"
   ]
  },
  {
   "cell_type": "code",
   "execution_count": null,
   "metadata": {},
   "outputs": [],
   "source": [
    "y.shape"
   ]
  },
  {
   "cell_type": "code",
   "execution_count": null,
   "metadata": {},
   "outputs": [],
   "source": [
    "import boto3\n",
    "import pandas as pd\n",
    "import io"
   ]
  },
  {
   "cell_type": "code",
   "execution_count": null,
   "metadata": {},
   "outputs": [],
   "source": [
    "def read_file_from_s3(bucket_name: str, file_name: str, client: boto3.client) -> bytes:\n",
    "    obj = client.get_object(Bucket=bucket_name, Key=file_name)\n",
    "    data = obj['Body'].read()\n",
    "    \n",
    "    return data"
   ]
  },
  {
   "cell_type": "code",
   "execution_count": null,
   "metadata": {},
   "outputs": [],
   "source": [
    "s3 = boto3.resource('s3')\n",
    "for bucket in s3.buckets.all():\n",
    "    print(bucket.name)"
   ]
  },
  {
   "cell_type": "code",
   "execution_count": null,
   "metadata": {},
   "outputs": [],
   "source": [
    "s3 = boto3.client('s3')\n",
    "t = read_file_from_s3('hisa-data', 'injury/injury.csv', s3)\n",
    "df = pd.read_csv(io.BytesIO(t))\n",
    "df.head(2)"
   ]
  },
  {
   "cell_type": "code",
   "execution_count": null,
   "metadata": {},
   "outputs": [],
   "source": []
  },
  {
   "cell_type": "code",
   "execution_count": null,
   "metadata": {},
   "outputs": [],
   "source": []
  },
  {
   "cell_type": "code",
   "execution_count": null,
   "metadata": {},
   "outputs": [],
   "source": []
  },
  {
   "cell_type": "code",
   "execution_count": null,
   "metadata": {},
   "outputs": [],
   "source": []
  },
  {
   "cell_type": "markdown",
   "metadata": {},
   "source": [
    "# Baseline"
   ]
  },
  {
   "cell_type": "code",
   "execution_count": null,
   "metadata": {},
   "outputs": [],
   "source": [
    "import pandas as pd\n",
    "import numpy as np"
   ]
  },
  {
   "cell_type": "code",
   "execution_count": null,
   "metadata": {},
   "outputs": [],
   "source": [
    "races = pd.read_csv('../../hisa-data/races_trainers_a.csv')"
   ]
  },
  {
   "cell_type": "code",
   "execution_count": null,
   "metadata": {},
   "outputs": [],
   "source": []
  },
  {
   "cell_type": "code",
   "execution_count": null,
   "metadata": {},
   "outputs": [],
   "source": []
  },
  {
   "cell_type": "code",
   "execution_count": null,
   "metadata": {},
   "outputs": [],
   "source": []
  },
  {
   "cell_type": "code",
   "execution_count": null,
   "metadata": {},
   "outputs": [],
   "source": [
    "races['sex'].value_counts()"
   ]
  },
  {
   "cell_type": "code",
   "execution_count": null,
   "metadata": {},
   "outputs": [],
   "source": [
    "races['race_surface'] = races['surface'].str.replace('InnerTurf', 'Turf').str.replace('InnerDirt', 'Dirt')\n",
    "\n",
    "top_conditions = list(races['track_condition'].value_counts().head(7).index)\n",
    "races['race_condition'] = np.where(\n",
    "    races['track_condition'].isin(top_conditions),\n",
    "    races['track_condition'],\n",
    "    'Other'\n",
    ")\n",
    "\n",
    "races = races.rename(columns={'race_type': 'race_type_raw'})\n",
    "top_types = list(races['race_type_raw'].value_counts().head(6).index)\n",
    "races['race_type'] = np.where(\n",
    "    races['race_type_raw'].isin(top_types),\n",
    "    races['race_type_raw'],\n",
    "    'Other'\n",
    ")\n",
    "\n",
    "races = pd.get_dummies(races, columns=['race_surface', 'race_condition', 'race_type'])"
   ]
  },
  {
   "cell_type": "code",
   "execution_count": null,
   "metadata": {},
   "outputs": [],
   "source": [
    "races.head(2)"
   ]
  },
  {
   "cell_type": "code",
   "execution_count": null,
   "metadata": {},
   "outputs": [],
   "source": [
    "races.columns"
   ]
  },
  {
   "cell_type": "code",
   "execution_count": null,
   "metadata": {},
   "outputs": [],
   "source": [
    "cols_for_model = [\n",
    "    'age',\n",
    "       'race_surface_Dirt', 'race_surface_Synthetic', 'race_surface_Turf',\n",
    "       'race_condition_Fast', 'race_condition_Firm', 'race_condition_Good',\n",
    "       'race_condition_Muddy', 'race_condition_Other', 'race_condition_Sloppy',\n",
    "       'race_condition_Wet Fast', 'race_condition_Yielding',\n",
    "       'race_type_Allowance', 'race_type_Allowance Optional Claimer',\n",
    "       'race_type_Claiming', 'race_type_Maiden', 'race_type_Maiden Claiming',\n",
    "       'race_type_Other', 'race_type_Starter Allowance',\n",
    "       ]\n",
    "\n",
    "# need to add sex!"
   ]
  },
  {
   "cell_type": "code",
   "execution_count": null,
   "metadata": {},
   "outputs": [],
   "source": [
    "X = races.copy()[cols_for_model]\n",
    "y = races.copy()['dnf']"
   ]
  },
  {
   "cell_type": "code",
   "execution_count": null,
   "metadata": {},
   "outputs": [],
   "source": [
    "y.value_counts()"
   ]
  },
  {
   "cell_type": "code",
   "execution_count": null,
   "metadata": {},
   "outputs": [],
   "source": [
    "from sklearn.linear_model import LogisticRegression"
   ]
  },
  {
   "cell_type": "code",
   "execution_count": null,
   "metadata": {},
   "outputs": [],
   "source": [
    "lr = LogisticRegression(\n",
    "    penalty='l2', \n",
    "    C = 0.1,\n",
    "    #class_weight='balanced',\n",
    "    n_jobs=-1,\n",
    "    max_iter=10000,\n",
    ")\n",
    "lr.fit(X, y)\n",
    "lr.score(X, y)\n",
    "\n"
   ]
  },
  {
   "cell_type": "code",
   "execution_count": null,
   "metadata": {},
   "outputs": [],
   "source": [
    "import matplotlib.pyplot as plt\n"
   ]
  },
  {
   "cell_type": "code",
   "execution_count": null,
   "metadata": {},
   "outputs": [],
   "source": [
    "true_dnf = X[y == 1]\n",
    "not_dnf = X[y == 0]\n",
    "\n",
    "plt.hist(lr.predict_proba(true_dnf)[:,1], bins=50, color='red', alpha=0.5, label='DNF', density=True)\n",
    "plt.hist(lr.predict_proba(not_dnf)[:,1], bins=50, color='blue', alpha=0.5, label='Not DNF', density=True)\n",
    "plt.legend()"
   ]
  },
  {
   "cell_type": "code",
   "execution_count": null,
   "metadata": {},
   "outputs": [],
   "source": [
    "for col, coef in zip(X.columns, lr.coef_[0]):\n",
    "    print(f'{col}: {coef}')"
   ]
  },
  {
   "cell_type": "code",
   "execution_count": null,
   "metadata": {},
   "outputs": [],
   "source": [
    "from xgboost import XGBClassifier\n",
    "from sklearn.model_selection import train_test_split"
   ]
  },
  {
   "cell_type": "code",
   "execution_count": null,
   "metadata": {},
   "outputs": [],
   "source": [
    "X0, X_valid, y0, y_valid = train_test_split(X, y, test_size=0.2, random_state=524)\n",
    "X_train, X_test, y_train, y_test = train_test_split(X0, y0, test_size=0.2, random_state=524)"
   ]
  },
  {
   "cell_type": "code",
   "execution_count": null,
   "metadata": {},
   "outputs": [],
   "source": [
    "xgb = XGBClassifier(\n",
    "    n_jobs=-1,\n",
    ")\n",
    "\n",
    "xgb.fit(X_train, y_train, early_stopping_rounds=10, eval_set=[(X_valid, y_valid)])\n",
    "\n",
    "print(xgb.score(X_train, y_train))\n",
    "print(xgb.score(X_test, y_test))\n",
    "print(xgb.score(X_valid, y_valid))\n"
   ]
  },
  {
   "cell_type": "code",
   "execution_count": null,
   "metadata": {},
   "outputs": [],
   "source": [
    "true_dnf = X_valid[y_valid == 1]\n",
    "not_dnf = X_valid[y_valid == 0]\n",
    "\n",
    "plt.hist(xgb.predict_proba(true_dnf)[:,1], bins=50, color='red', alpha=0.5, label='DNF', density=True)\n",
    "plt.hist(xgb.predict_proba(not_dnf)[:,1], bins=50, color='blue', alpha=0.5, label='Not DNF', density=True)\n",
    "plt.legend()"
   ]
  },
  {
   "cell_type": "code",
   "execution_count": null,
   "metadata": {},
   "outputs": [],
   "source": [
    "#X = X.drop(columns='y_pred')\n",
    "X['y_pred'] = xgb.predict_proba(X)[:,-1]\n",
    "X.sort_values('y_pred')"
   ]
  },
  {
   "cell_type": "code",
   "execution_count": null,
   "metadata": {},
   "outputs": [],
   "source": []
  },
  {
   "cell_type": "code",
   "execution_count": null,
   "metadata": {},
   "outputs": [],
   "source": []
  },
  {
   "cell_type": "code",
   "execution_count": null,
   "metadata": {},
   "outputs": [],
   "source": []
  },
  {
   "cell_type": "code",
   "execution_count": null,
   "metadata": {},
   "outputs": [],
   "source": []
  },
  {
   "cell_type": "markdown",
   "metadata": {},
   "source": [
    "# Smoothing"
   ]
  },
  {
   "cell_type": "code",
   "execution_count": 1,
   "metadata": {},
   "outputs": [
    {
     "name": "stderr",
     "output_type": "stream",
     "text": [
      "/Users/jameshull/Documents/GitHub/hisa-trainer-injury/venv/lib/python3.7/site-packages/IPython/core/interactiveshell.py:3553: DtypeWarning: Columns (15) have mixed types.Specify dtype option on import or set low_memory=False.\n",
      "  exec(code_obj, self.user_global_ns, self.user_ns)\n"
     ]
    }
   ],
   "source": [
    "import pandas as pd\n",
    "import numpy as np\n",
    "import matplotlib.pyplot as plt\n",
    "\n",
    "races = pd.read_csv('../../hisa-data/races_trainers_a.csv')"
   ]
  },
  {
   "cell_type": "code",
   "execution_count": null,
   "metadata": {},
   "outputs": [],
   "source": [
    "races.columns"
   ]
  },
  {
   "cell_type": "code",
   "execution_count": 2,
   "metadata": {},
   "outputs": [],
   "source": [
    "df = races.groupby('trainer_name').agg({\n",
    "    'dnf': 'sum',\n",
    "    'registration_number': 'nunique',\n",
    "    'ChartID': 'count',\n",
    "}).reset_index().rename(columns={'registration_number': 'n_horses', 'ChartID': 'n_starts'})\n",
    "\n",
    "df['dnf_pct'] = df['dnf'] / df['n_starts']"
   ]
  },
  {
   "cell_type": "code",
   "execution_count": 3,
   "metadata": {},
   "outputs": [
    {
     "data": {
      "text/html": [
       "<div>\n",
       "<style scoped>\n",
       "    .dataframe tbody tr th:only-of-type {\n",
       "        vertical-align: middle;\n",
       "    }\n",
       "\n",
       "    .dataframe tbody tr th {\n",
       "        vertical-align: top;\n",
       "    }\n",
       "\n",
       "    .dataframe thead th {\n",
       "        text-align: right;\n",
       "    }\n",
       "</style>\n",
       "<table border=\"1\" class=\"dataframe\">\n",
       "  <thead>\n",
       "    <tr style=\"text-align: right;\">\n",
       "      <th></th>\n",
       "      <th>trainer_name</th>\n",
       "      <th>dnf</th>\n",
       "      <th>n_horses</th>\n",
       "      <th>n_starts</th>\n",
       "      <th>dnf_pct</th>\n",
       "    </tr>\n",
       "  </thead>\n",
       "  <tbody>\n",
       "    <tr>\n",
       "      <th>0</th>\n",
       "      <td>A. Aceves</td>\n",
       "      <td>0</td>\n",
       "      <td>3</td>\n",
       "      <td>11</td>\n",
       "      <td>0.000000</td>\n",
       "    </tr>\n",
       "    <tr>\n",
       "      <th>1</th>\n",
       "      <td>A. Adamo</td>\n",
       "      <td>2</td>\n",
       "      <td>30</td>\n",
       "      <td>110</td>\n",
       "      <td>0.018182</td>\n",
       "    </tr>\n",
       "  </tbody>\n",
       "</table>\n",
       "</div>"
      ],
      "text/plain": [
       "  trainer_name  dnf  n_horses  n_starts   dnf_pct\n",
       "0    A. Aceves    0         3        11  0.000000\n",
       "1     A. Adamo    2        30       110  0.018182"
      ]
     },
     "execution_count": 3,
     "metadata": {},
     "output_type": "execute_result"
    }
   ],
   "source": [
    "df.head(2)"
   ]
  },
  {
   "cell_type": "code",
   "execution_count": 4,
   "metadata": {},
   "outputs": [],
   "source": [
    "MIN_STARTS = 200"
   ]
  },
  {
   "cell_type": "code",
   "execution_count": 5,
   "metadata": {},
   "outputs": [],
   "source": [
    "df_threshold = df[df['n_starts'] > MIN_STARTS]"
   ]
  },
  {
   "cell_type": "code",
   "execution_count": 6,
   "metadata": {},
   "outputs": [
    {
     "name": "stdout",
     "output_type": "stream",
     "text": [
      "2.3757926839940993 118.6404382205047\n"
     ]
    }
   ],
   "source": [
    "import numpy as np\n",
    "from scipy.optimize import minimize\n",
    "from scipy.special import betaln\n",
    "\n",
    "# Log-likelihood function\n",
    "def log_likelihood(params, x, total):\n",
    "    alpha, beta = params\n",
    "    # Beta-binomial log probability mass function\n",
    "    log_prob = betaln(x + alpha, total - x + beta) - betaln(alpha, beta) - betaln(x + 1, total - x + 1)\n",
    "    return -np.sum(log_prob)\n",
    "\n",
    "# Simulate the career_filtered dataset (replace with actual data)\n",
    "# career_filtered should be a DataFrame with columns 'H' and 'AB'\n",
    "import pandas as pd\n",
    "\n",
    "x = df_threshold['dnf'].values\n",
    "total = df_threshold['n_starts'].values\n",
    "\n",
    "# Initial parameters\n",
    "initial_params = [1, 10]\n",
    "\n",
    "# Bounds for alpha and beta\n",
    "bounds = [(0.0001, None), (0.1, None)]\n",
    "\n",
    "# Minimize the negative log-likelihood\n",
    "result = minimize(log_likelihood, initial_params, args=(x, total), method='L-BFGS-B', bounds=bounds)\n",
    "\n",
    "# Extract the coefficients\n",
    "alpha0, beta0 = result.x\n",
    "\n",
    "# Print coefficients\n",
    "print(alpha0, beta0)\n"
   ]
  },
  {
   "cell_type": "code",
   "execution_count": 7,
   "metadata": {},
   "outputs": [
    {
     "name": "stdout",
     "output_type": "stream",
     "text": [
      "Alpha: 2.3757926839940993\n",
      "Beta: 118.6404382205047\n"
     ]
    },
    {
     "data": {
      "image/png": "[encoded data removed]",
      "text/plain": [
       "<Figure size 1000x600 with 1 Axes>"
      ]
     },
     "metadata": {},
     "output_type": "display_data"
    }
   ],
   "source": [
    "#alpha0 = 101\n",
    "#beta0 = 288\n",
    "\n",
    "# Print coefficients\n",
    "print(\"Alpha:\", alpha0)\n",
    "print(\"Beta:\", beta0)\n",
    "\n",
    "\n",
    "# Function to generate beta-binomial samples\n",
    "def beta_binomial_sample(n, alpha, beta, size):\n",
    "    # Draw samples from a Beta distribution\n",
    "    p = np.random.beta(alpha, beta, size)\n",
    "    # Draw samples from a Binomial distribution\n",
    "    return np.random.binomial(n, p, size)\n",
    "\n",
    "# Parameters for generating samples\n",
    "n_trials = 1000  # Number of trials per sample\n",
    "n_samples = 10000  # Number of samples to generate\n",
    "\n",
    "# Generate samples\n",
    "samples = beta_binomial_sample(n_trials, alpha0, beta0, n_samples)\n",
    "\n",
    "# Plot the histogram of the samples\n",
    "plt.figure(figsize=(10, 6))\n",
    "plt.hist(samples, bins=30)\n",
    "plt.title(f'Histogram of Beta-Binomial Samples (alpha={alpha0:.2f}, beta={beta0:.2f})')\n",
    "plt.xlabel('Number of Successes')\n",
    "plt.ylabel('Frequency')\n",
    "plt.show()"
   ]
  },
  {
   "cell_type": "code",
   "execution_count": 8,
   "metadata": {},
   "outputs": [],
   "source": [
    "df['dnf_pct_smooth'] = (df['dnf'] + alpha0) / (df['n_starts'] + alpha0 + beta0)"
   ]
  },
  {
   "cell_type": "code",
   "execution_count": 9,
   "metadata": {},
   "outputs": [
    {
     "data": {
      "text/html": [
       "<div>\n",
       "<style scoped>\n",
       "    .dataframe tbody tr th:only-of-type {\n",
       "        vertical-align: middle;\n",
       "    }\n",
       "\n",
       "    .dataframe tbody tr th {\n",
       "        vertical-align: top;\n",
       "    }\n",
       "\n",
       "    .dataframe thead th {\n",
       "        text-align: right;\n",
       "    }\n",
       "</style>\n",
       "<table border=\"1\" class=\"dataframe\">\n",
       "  <thead>\n",
       "    <tr style=\"text-align: right;\">\n",
       "      <th></th>\n",
       "      <th>trainer_name</th>\n",
       "      <th>dnf</th>\n",
       "      <th>n_horses</th>\n",
       "      <th>n_starts</th>\n",
       "      <th>dnf_pct</th>\n",
       "      <th>dnf_pct_smooth</th>\n",
       "    </tr>\n",
       "  </thead>\n",
       "  <tbody>\n",
       "    <tr>\n",
       "      <th>0</th>\n",
       "      <td>A. Aceves</td>\n",
       "      <td>0</td>\n",
       "      <td>3</td>\n",
       "      <td>11</td>\n",
       "      <td>0.000000</td>\n",
       "      <td>0.017996</td>\n",
       "    </tr>\n",
       "    <tr>\n",
       "      <th>1</th>\n",
       "      <td>A. Adamo</td>\n",
       "      <td>2</td>\n",
       "      <td>30</td>\n",
       "      <td>110</td>\n",
       "      <td>0.018182</td>\n",
       "      <td>0.018941</td>\n",
       "    </tr>\n",
       "  </tbody>\n",
       "</table>\n",
       "</div>"
      ],
      "text/plain": [
       "  trainer_name  dnf  n_horses  n_starts   dnf_pct  dnf_pct_smooth\n",
       "0    A. Aceves    0         3        11  0.000000        0.017996\n",
       "1     A. Adamo    2        30       110  0.018182        0.018941"
      ]
     },
     "execution_count": 9,
     "metadata": {},
     "output_type": "execute_result"
    }
   ],
   "source": [
    "df.head(2)"
   ]
  },
  {
   "cell_type": "code",
   "execution_count": 10,
   "metadata": {},
   "outputs": [],
   "source": [
    "del races"
   ]
  },
  {
   "cell_type": "code",
   "execution_count": 29,
   "metadata": {},
   "outputs": [
    {
     "data": {
      "image/png": "[encoded data removed]",
      "text/plain": [
       "<Figure size 640x480 with 1 Axes>"
      ]
     },
     "metadata": {},
     "output_type": "display_data"
    }
   ],
   "source": [
    "plt.scatter(df['dnf_pct'], df['dnf_pct_smooth'], c=np.log(df['n_starts']), cmap='bwr', alpha=0.5)\n",
    "plt.plot([0, .15], [0, .15], color='gray', linestyle='--', alpha=0.3)\n",
    "plt.plot([0, 1], [(alpha0)/(alpha0+beta0), (alpha0)/(alpha0+beta0)], color='black', linestyle='--')\n",
    "plt.show()"
   ]
  },
  {
   "cell_type": "code",
   "execution_count": 31,
   "metadata": {},
   "outputs": [
    {
     "data": {
      "text/html": [
       "<div>\n",
       "<style scoped>\n",
       "    .dataframe tbody tr th:only-of-type {\n",
       "        vertical-align: middle;\n",
       "    }\n",
       "\n",
       "    .dataframe tbody tr th {\n",
       "        vertical-align: top;\n",
       "    }\n",
       "\n",
       "    .dataframe thead th {\n",
       "        text-align: right;\n",
       "    }\n",
       "</style>\n",
       "<table border=\"1\" class=\"dataframe\">\n",
       "  <thead>\n",
       "    <tr style=\"text-align: right;\">\n",
       "      <th></th>\n",
       "      <th>trainer_name</th>\n",
       "      <th>dnf</th>\n",
       "      <th>n_horses</th>\n",
       "      <th>n_starts</th>\n",
       "      <th>dnf_pct</th>\n",
       "      <th>dnf_pct_smooth</th>\n",
       "    </tr>\n",
       "  </thead>\n",
       "  <tbody>\n",
       "    <tr>\n",
       "      <th>0</th>\n",
       "      <td>A. Aceves</td>\n",
       "      <td>0</td>\n",
       "      <td>3</td>\n",
       "      <td>11</td>\n",
       "      <td>0.000000</td>\n",
       "      <td>0.017996</td>\n",
       "    </tr>\n",
       "    <tr>\n",
       "      <th>1</th>\n",
       "      <td>A. Adamo</td>\n",
       "      <td>2</td>\n",
       "      <td>30</td>\n",
       "      <td>110</td>\n",
       "      <td>0.018182</td>\n",
       "      <td>0.018941</td>\n",
       "    </tr>\n",
       "  </tbody>\n",
       "</table>\n",
       "</div>"
      ],
      "text/plain": [
       "  trainer_name  dnf  n_horses  n_starts   dnf_pct  dnf_pct_smooth\n",
       "0    A. Aceves    0         3        11  0.000000        0.017996\n",
       "1     A. Adamo    2        30       110  0.018182        0.018941"
      ]
     },
     "execution_count": 31,
     "metadata": {},
     "output_type": "execute_result"
    }
   ],
   "source": [
    "df.head(2)"
   ]
  },
  {
   "cell_type": "code",
   "execution_count": 33,
   "metadata": {},
   "outputs": [
    {
     "data": {
      "image/png": "[encoded data removed]",
      "text/plain": [
       "<Figure size 1000x600 with 1 Axes>"
      ]
     },
     "metadata": {},
     "output_type": "display_data"
    }
   ],
   "source": [
    "import numpy as np\n",
    "import pandas as pd\n",
    "import matplotlib.pyplot as plt\n",
    "import seaborn as sns\n",
    "from scipy.stats import beta\n",
    "\n",
    "\n",
    "\n",
    "# Calculate the credible intervals\n",
    "df['low'] = beta.ppf(0.025, alpha0 + df['dnf'], beta0 + df['n_starts'] - df['dnf'])\n",
    "df['high'] = beta.ppf(0.975, alpha0 + df['dnf'], beta0 + df['n_starts'] - df['dnf'])\n",
    "\n",
    "# Reorder the players by eb_estimate\n",
    "df = df.sort_values('dnf_pct_smooth').reset_index(drop=True)\n",
    "df = df.sample(10)\n",
    "\n",
    "# Plotting\n",
    "plt.figure(figsize=(10, 6))\n",
    "sns.set(style=\"whitegrid\")\n",
    "\n",
    "# Scatter plot with error bars\n",
    "plt.errorbar(df['dnf_pct_smooth'], df['trainer_name'], \n",
    "             xerr=[df['dnf_pct_smooth'] - df['low'], \n",
    "                   df['high'] - df['dnf_pct_smooth']], \n",
    "             fmt='o', color='blue', ecolor='black', capsize=3)\n",
    "\n",
    "# Add vertical line for the average\n",
    "plt.axvline(x=alpha0 / (alpha0 + beta0), color='red', linestyle='--')\n",
    "\n",
    "# Labels and title\n",
    "plt.xlabel(\"Estimated average, with 95% credible interval\")\n",
    "plt.ylabel(\"Player\")\n",
    "plt.title(\"Top Players with More Than 10000 At-Bats\")\n",
    "\n",
    "# Show the plot\n",
    "plt.tight_layout()\n",
    "plt.show()\n"
   ]
  },
  {
   "cell_type": "code",
   "execution_count": null,
   "metadata": {},
   "outputs": [],
   "source": []
  }
 ],
 "metadata": {
  "kernelspec": {
   "display_name": "venv",
   "language": "python",
   "name": "python3"
  },
  "language_info": {
   "codemirror_mode": {
    "name": "ipython",
    "version": 3
   },
   "file_extension": ".py",
   "mimetype": "text/x-python",
   "name": "python",
   "nbconvert_exporter": "python",
   "pygments_lexer": "ipython3",
   "version": "3.7.6"
  }
 },
 "nbformat": 4,
 "nbformat_minor": 2
}

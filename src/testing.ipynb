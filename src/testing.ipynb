{
 "cells": [
  {
   "cell_type": "code",
   "execution_count": null,
   "metadata": {},
   "outputs": [],
   "source": [
    "# need to get RaceResult 15-16-17\n",
    "# need to get Workout 0-1"
   ]
  },
  {
   "cell_type": "code",
   "execution_count": null,
   "metadata": {},
   "outputs": [],
   "source": [
    "import pandas as pd\n",
    "import numpy as np\n",
    "import matplotlib.pyplot as plt"
   ]
  },
  {
   "cell_type": "code",
   "execution_count": null,
   "metadata": {},
   "outputs": [],
   "source": [
    "injury_raw = pd.read_csv('../../hisa-data/injury.csv')\n",
    "vets_list_raw = pd.read_csv('../../hisa-data/vets_list.csv')\n",
    "people_raw = pd.read_csv('../../hisa-data/people.csv')\n",
    "race_result0_raw = pd.read_parquet('../../hisa-data/race_result0.parquet')\n",
    "#race_result0_raw = race_result0_raw.iloc[0:10000]"
   ]
  },
  {
   "cell_type": "code",
   "execution_count": null,
   "metadata": {},
   "outputs": [],
   "source": [
    "def clean_injury_data(df: pd.DataFrame) -> pd.DataFrame:\n",
    "    injury = []\n",
    "    for _, row in df.iterrows():\n",
    "        try:\n",
    "            horse_id = row['Horses'].split('HisaHorseId\":\"')[1].split('\"')[0]\n",
    "        except AttributeError:\n",
    "            # NULL value\n",
    "            horse_id = None\n",
    "        except IndexError:\n",
    "            # string split error\n",
    "            horse_id = None\n",
    "\n",
    "        try:\n",
    "            responsible_person_id = row['Horses'].split('ResponsiblePersonHisaId\":\"')[1].split('\"')[0]\n",
    "        except AttributeError:\n",
    "            # NULL value\n",
    "            responsible_person_id = None\n",
    "        except IndexError:\n",
    "            # string split error\n",
    "            responsible_person_id = None\n",
    "\n",
    "        injury.append({\n",
    "            'date': row['DateOfInjury'],\n",
    "            'injury_id': row['HisaInjuryId'],\n",
    "            'horse_id': horse_id,\n",
    "            'responsible_person_id': responsible_person_id,\n",
    "            'vets_list_id': row['RelatedVetsListId'],\n",
    "            'location_id': row['LocationId'],\n",
    "            'injury_type': row['Type'],\n",
    "            'circumstances': row['Circumstance'],\n",
    "            'race_number': row['RaceNumber'],\n",
    "        })\n",
    "\n",
    "    return pd.DataFrame(injury)\n"
   ]
  },
  {
   "cell_type": "code",
   "execution_count": null,
   "metadata": {},
   "outputs": [],
   "source": [
    "def clean_vets_list_data(df: pd.DataFrame) -> pd.DataFrame:\n",
    "    \n",
    "    vets_list = df[['VetsListId', 'HisaHorseId', 'CurrentResponsiblePersonId', 'LocationId', 'DatePlacedOnList', 'DateToComeOffList', 'DaysOnList', 'Reason', 'OtherStateReason']]\n",
    "    vets_list.columns = ['vets_list_id', 'horse_id', 'responsible_person_id', 'location_id', 'date_on_list', 'date_off_list', 'days_on_list', 'reason', 'other_reason']\n",
    "\n",
    "    return vets_list\n"
   ]
  },
  {
   "cell_type": "code",
   "execution_count": null,
   "metadata": {},
   "outputs": [],
   "source": [
    "def clean_people_data(df: pd.DataFrame) -> pd.DataFrame:\n",
    "    \n",
    "    df['trainer'] = np.where(\n",
    "        df['Roles'].str.contains('Trainer'),\n",
    "        1,\n",
    "        0\n",
    "    )\n",
    "\n",
    "    df = df[['HisaPersonId', 'DisplayName', 'trainer']]\n",
    "    df = df.rename(columns={\n",
    "        'HisaPersonId': 'person_id',\n",
    "        'DisplayName': 'name',\n",
    "        'trainer': 'is_trainer'\n",
    "    })\n",
    "\n",
    "    return df"
   ]
  },
  {
   "cell_type": "code",
   "execution_count": null,
   "metadata": {},
   "outputs": [],
   "source": [
    "def clean_race_results_data(df: pd.DataFrame) -> pd.DataFrame:\n",
    "    columns = {\n",
    "        'PostPosition': 'post_position',\n",
    "        'Race_RaceNumber': 'race_number',\n",
    "        'Horse_Foaled': 'horse_foaled_date',\n",
    "        'OfficialPosition': 'finish',\n",
    "        'Race_Date': 'race_date',\n",
    "        'Horse_HisaId': 'horse_id',\n",
    "        'Horse_ReferenceNumber': 'horse_reference_number',\n",
    "        'Horse_Name': 'horse_name', \n",
    "        'Race_Condition': 'race_condition',\n",
    "        'Race_Purse' : 'purse',\n",
    "        'Race_LocationId' : 'location_id',\n",
    "        'Race_LocationCode': 'location_code',\n",
    "        'Race_ClaimingPrice': 'claiming_price',\n",
    "        'Race_LocationName': 'location_name',\n",
    "        'Race_Type': 'race_type',\n",
    "        'Race_DistanceFurlong': 'race_distance',\n",
    "        'Race_Course': 'surface',\n",
    "        'Trainer_HisaId': 'trainer_id',\n",
    "        'Trainer_LastName' : 'trainer_last_name',\n",
    "        'Trainer_FirstName': 'trainer_first_name',\n",
    "        'Trainer_ReferenceNumber': 'trainer_reference_number',\n",
    "        'Scratched': 'scratched_bool',\n",
    "        'Earnings': 'earnings',\n",
    "        'Odds': 'odds',\n",
    "        'Dnf': 'dnf_bool',\n",
    "        'ProgramNumber': 'program_number'\n",
    "    }\n",
    "\n",
    "    df = df[[c for c in columns.keys()]].rename(columns=columns)\n",
    "    df['scratched'] = np.where(\n",
    "        df['scratched_bool'],\n",
    "        1,\n",
    "        0\n",
    "    )\n",
    "\n",
    "    df['dnf'] = np.where(\n",
    "        df['dnf_bool'],\n",
    "        1,\n",
    "        0\n",
    "    )\n",
    "\n",
    "    df = df.drop(['scratched_bool', 'dnf_bool'], axis=1)\n",
    "    df = df.sort_values(by=['horse_reference_number', 'race_date'])\n",
    "\n",
    "    df = df[df['horse_reference_number'] != 0]\n",
    "\n",
    "    return df\n"
   ]
  },
  {
   "cell_type": "code",
   "execution_count": null,
   "metadata": {},
   "outputs": [],
   "source": [
    "injury = clean_injury_data(injury_raw)\n",
    "injury.head(2)"
   ]
  },
  {
   "cell_type": "code",
   "execution_count": null,
   "metadata": {},
   "outputs": [],
   "source": [
    "vets_list = clean_vets_list_data(vets_list_raw)\n",
    "vets_list.head(2)"
   ]
  },
  {
   "cell_type": "code",
   "execution_count": null,
   "metadata": {},
   "outputs": [],
   "source": [
    "people = clean_people_data(people_raw)\n",
    "people.head(2)"
   ]
  },
  {
   "cell_type": "code",
   "execution_count": null,
   "metadata": {},
   "outputs": [],
   "source": [
    "race_results = clean_race_results_data(race_result0_raw)\n",
    "del race_result0_raw\n",
    "race_results.head(2)"
   ]
  },
  {
   "cell_type": "code",
   "execution_count": null,
   "metadata": {},
   "outputs": [],
   "source": [
    "race_results.columns"
   ]
  },
  {
   "cell_type": "code",
   "execution_count": null,
   "metadata": {},
   "outputs": [],
   "source": [
    "race_results['age'] = (race_results['race_date'] - race_results['horse_foaled_date']).dt.days\n",
    "df = race_results.copy()\n",
    "\n",
    "\n",
    "df['previous_race_date'] = df.groupby('horse_reference_number')['race_date'].shift(1)\n",
    "df['previous_race_dnf'] = df.groupby('horse_reference_number')['dnf'].shift(1)\n",
    "df['previous_race_scratch'] = df.groupby('horse_reference_number')['scratched'].shift(1)\n",
    "df['previous_race_distance'] = df.groupby('horse_reference_number')['race_distance'].shift(1)\n",
    "df['previous_surface'] = df.groupby('horse_reference_number')['surface'].shift(1)\n",
    "df['days_since_last_race'] = (df['race_date'] - df['previous_race_date']).dt.days\n",
    "\n",
    "\n",
    "\n",
    "df['distance_delta'] = df['race_distance'] - df['previous_race_distance']\n",
    "df['distance_jump'] = np.where(\n",
    "    df['distance_delta'] > 2,\n",
    "    1,\n",
    "    0\n",
    ")\n",
    "\n",
    "df['rest_after_dnf'] = np.where(\n",
    "    df['previous_race_dnf'] == 1,\n",
    "    df['days_since_last_race'],\n",
    "    None\n",
    ")\n",
    "\n",
    "df['rest_after_scratch'] = np.where(\n",
    "    df['previous_race_scratch'] == 1,\n",
    "    df['days_since_last_race'],\n",
    "    None\n",
    ")\n",
    "\n",
    "df['surface_change'] = np.where(\n",
    "    df['surface'] != df['previous_surface'],\n",
    "    1,\n",
    "    0\n",
    ")\n",
    "\n",
    "# maybe should account for covid\n",
    "df['long_layoff'] = np.where(\n",
    "    df['days_since_last_race'] > 365,\n",
    "    1,\n",
    "    0\n",
    ")\n",
    "\n",
    "first_long = df[df['race_distance'] > 8].sort_values(by=['race_date']).groupby(['horse_reference_number', 'trainer_reference_number', 'trainer_last_name', 'trainer_first_name']).first().reset_index()\n"
   ]
  },
  {
   "cell_type": "code",
   "execution_count": null,
   "metadata": {},
   "outputs": [],
   "source": [
    "df[df['horse_reference_number'] == 10072913][['race_date', 'window_start', 'races_in_last_30_days']]"
   ]
  },
  {
   "cell_type": "code",
   "execution_count": null,
   "metadata": {},
   "outputs": [],
   "source": [
    "trainers = df.groupby(['trainer_reference_number', 'trainer_last_name', 'trainer_first_name']).agg({\n",
    "    'race_number': 'count',\n",
    "    'horse_reference_number': 'nunique',\n",
    "    'scratched': 'sum',\n",
    "    'dnf': 'sum',\n",
    "    'age': 'min',\n",
    "    'days_since_last_race': ['min', 'median'],\n",
    "    'rest_after_dnf': 'median',\n",
    "    'rest_after_scratch': 'median',\n",
    "    'distance_jump': 'sum',\n",
    "    'surface_change': 'sum',\n",
    "    'long_layoff': 'sum',\n",
    "}).reset_index()\n",
    "\n",
    "trainers.columns = ['trainer_reference_number', 'trainer_last_name', 'trainer_first_name', \n",
    "'n_entries', 'unique_horses', 'scratched', 'dnf', 'min_age', 'days_since_last_race_min', 'days_since_last_race_median', \n",
    "'rest_after_dnf_median', 'rest_after_scratch_median', 'distance_jumps', 'surface_changes', 'long_layoffs',\n",
    "\n",
    "]\n",
    "\n",
    "trainers['scratches_per_entry'] = trainers['scratched'] / trainers['n_entries']\n",
    "trainers['dnf_per_entry'] = trainers['dnf'] / trainers['n_entries']\n",
    "\n",
    "trainer_first_long = first_long.groupby(['trainer_reference_number', 'trainer_last_name', 'trainer_first_name']).agg({\n",
    "    'age': 'median'\n",
    "}).reset_index().rename(columns={'age': 'first_long_age'})\n",
    "\n",
    "trainers = trainers.merge(trainer_first_long, on=['trainer_reference_number', 'trainer_last_name', 'trainer_first_name'], how='left')"
   ]
  },
  {
   "cell_type": "code",
   "execution_count": null,
   "metadata": {},
   "outputs": [],
   "source": [
    "trainers.head(2)"
   ]
  },
  {
   "cell_type": "code",
   "execution_count": null,
   "metadata": {},
   "outputs": [],
   "source": []
  },
  {
   "cell_type": "code",
   "execution_count": null,
   "metadata": {},
   "outputs": [],
   "source": []
  },
  {
   "cell_type": "code",
   "execution_count": null,
   "metadata": {},
   "outputs": [],
   "source": []
  },
  {
   "cell_type": "code",
   "execution_count": null,
   "metadata": {},
   "outputs": [],
   "source": []
  },
  {
   "cell_type": "code",
   "execution_count": null,
   "metadata": {},
   "outputs": [],
   "source": []
  },
  {
   "cell_type": "code",
   "execution_count": null,
   "metadata": {},
   "outputs": [],
   "source": []
  },
  {
   "cell_type": "code",
   "execution_count": null,
   "metadata": {},
   "outputs": [],
   "source": [
    "plt.hist(trainers['days_since_last_race_median'], color='blue', edgecolor='black', bins=50, alpha=0.5, density=True)\n",
    "plt.hist(trainers['rest_after_scratch_median'], color='red', edgecolor='black', bins=50, alpha=0.5, density=True)\n",
    "plt.hist(trainers['rest_after_dnf_median'], color='black', edgecolor='black', bins=50, alpha=0.5, density=True)\n",
    "plt.show()"
   ]
  },
  {
   "cell_type": "markdown",
   "metadata": {},
   "source": [
    "In race results need to do some processing then can aggregate on trainer\n",
    "- median min age of all trainer's horses\n",
    "- races last N days\n",
    "- longer layoffs for distance / surface / condition?\n",
    "- lost by N+ lengths \n",
    "- medications\n",
    "- travel ?\n",
    "\n"
   ]
  },
  {
   "cell_type": "markdown",
   "metadata": {},
   "source": []
  },
  {
   "cell_type": "code",
   "execution_count": null,
   "metadata": {},
   "outputs": [],
   "source": []
  },
  {
   "cell_type": "code",
   "execution_count": null,
   "metadata": {},
   "outputs": [],
   "source": [
    "race_results.columns"
   ]
  },
  {
   "cell_type": "code",
   "execution_count": null,
   "metadata": {},
   "outputs": [],
   "source": [
    "injury.head(2)"
   ]
  },
  {
   "cell_type": "code",
   "execution_count": null,
   "metadata": {},
   "outputs": [],
   "source": [
    "injury['circumstances'].value_counts()"
   ]
  },
  {
   "cell_type": "code",
   "execution_count": null,
   "metadata": {},
   "outputs": [],
   "source": []
  },
  {
   "cell_type": "code",
   "execution_count": null,
   "metadata": {},
   "outputs": [],
   "source": []
  },
  {
   "cell_type": "code",
   "execution_count": null,
   "metadata": {},
   "outputs": [],
   "source": []
  },
  {
   "cell_type": "markdown",
   "metadata": {},
   "source": [
    "# Races RTR"
   ]
  },
  {
   "cell_type": "code",
   "execution_count": null,
   "metadata": {},
   "outputs": [],
   "source": [
    "import pandas as pd\n",
    "import numpy as np\n",
    "import matplotlib.pyplot as plt"
   ]
  },
  {
   "cell_type": "code",
   "execution_count": null,
   "metadata": {},
   "outputs": [],
   "source": [
    "df = pd.read_csv('../../hisa-data/trainer_uvwxyz.csv')\n",
    "\n",
    "df.columns"
   ]
  },
  {
   "cell_type": "code",
   "execution_count": null,
   "metadata": {},
   "outputs": [],
   "source": [
    "df['distance'].value_counts()\n",
    "\n",
    "DISTANCE_LOOKUP = {\n",
    "    '4 1/2 F': 4.5,\n",
    "    '5 F': 5,\n",
    "    '5 1/2 F': 5.5,\n",
    "    '6 F': 6,\n",
    "    '6 1/2 F': 6.5,\n",
    "    '7 F': 7,\n",
    "    '7 1/2 F': 7.5,\n",
    "    '1 M': 8,\n",
    "    '1 M 40 Y': 8.18,\n",
    "    '1 M 70 Y': 8.32,\n",
    "    '1 1/16 M': 8.5,\n",
    "    '1 1/8 M': 9,\n",
    "    '1 3/16 M': 9.5,\n",
    "    '1 1/4 M': 10,\n",
    "    '1 7/16 M': 11.5,\n",
    "    '1 5/8 M': 13,\n",
    "\n",
    "}"
   ]
  },
  {
   "cell_type": "code",
   "execution_count": null,
   "metadata": {},
   "outputs": [],
   "source": [
    "df['race_date'] = pd.to_datetime(df['race_date'], format='%Y-%m-%d')\n",
    "#df['purse'] = df['purse'].str.replace('$', '').str.replace(',', '').astype(float)\n",
    "df['race_distance'] = df['distance'].map(DISTANCE_LOOKUP)\n",
    "df['age'] = np.abs(df['age'])\n",
    "\n",
    "\n",
    "df = df.sort_values(by=['registration_number', 'race_date'])\n",
    "df['previous_race_date'] = df.groupby('registration_number')['race_date'].shift(1)\n",
    "df['previous_race_dnf'] = df.groupby('registration_number')['dnf'].shift(1)\n",
    "df['previous_race_distance'] = df.groupby('registration_number')['race_distance'].shift(1)\n",
    "df['previous_surface'] = df.groupby('registration_number')['surface'].shift(1)\n",
    "df['days_since_last_race'] = (df['race_date'] - df['previous_race_date']).dt.days\n",
    "\n",
    "\n",
    "\n",
    "df['distance_delta'] = df['race_distance'] - df['previous_race_distance']\n",
    "df['distance_jump'] = np.where(\n",
    "    df['distance_delta'] > 2,\n",
    "    1,\n",
    "    0\n",
    ")\n",
    "\n",
    "df['rest_after_dnf'] = np.where(\n",
    "    df['previous_race_dnf'] == 1,\n",
    "    df['days_since_last_race'],\n",
    "    None\n",
    ")\n",
    "\n",
    "df['surface_change'] = np.where(\n",
    "    df['surface'] != df['previous_surface'],\n",
    "    1,\n",
    "    0\n",
    ")\n",
    "\n",
    "# maybe should account for covid\n",
    "df['long_layoff'] = np.where(\n",
    "    df['days_since_last_race'] > 365,\n",
    "    1,\n",
    "    0\n",
    ")\n",
    "\n",
    "first_long = df[df['race_distance'] > 8].sort_values(by=['race_date']).groupby(['registration_number', 'trainer_name']).first().reset_index()\n",
    "first_start = df.drop_duplicates('registration_number').groupby(['trainer_name']).agg({\n",
    "    'age': 'median',\n",
    "    'race_distance': 'median',\n",
    "}).reset_index().rename(columns={\n",
    "    'age': 'median_first_start_age',\n",
    "    'race_distance': 'median_first_race_distance'\n",
    "})\n"
   ]
  },
  {
   "cell_type": "code",
   "execution_count": null,
   "metadata": {},
   "outputs": [],
   "source": [
    "trainers = df.groupby(['trainer_name']).agg({\n",
    "    'race_number': 'count',\n",
    "    'registration_number': 'nunique',\n",
    "    #'scratched': 'sum',\n",
    "    'dnf': 'sum',\n",
    "    'age': 'min',\n",
    "    'days_since_last_race': ['min', 'median'],\n",
    "    'rest_after_dnf': 'median',\n",
    "    #'rest_after_scratch': 'median',\n",
    "    'distance_jump': 'mean',\n",
    "    'surface_change': 'mean',\n",
    "    'long_layoff': 'mean',\n",
    "}).reset_index()\n",
    "\n",
    "trainers.columns = ['trainer_name',\n",
    "'n_entries', 'unique_horses', 'dnf', 'min_age', 'days_since_last_race_min', 'days_since_last_race_median', \n",
    "'rest_after_dnf_median', 'distance_jumps', 'surface_changes', 'long_layoffs',\n",
    "\n",
    "]\n",
    "\n",
    "#trainers['scratches_per_entry'] = trainers['scratched'] / trainers['n_entries']\n",
    "trainers['dnf_per_entry'] = trainers['dnf'] / trainers['n_entries']\n",
    "\n",
    "trainer_first_long = first_long.groupby(['trainer_name']).agg({\n",
    "    'age': 'median'\n",
    "}).reset_index().rename(columns={'age': 'first_long_age'})\n",
    "\n",
    "trainers = trainers.merge(trainer_first_long, on=['trainer_name'], how='left')\n",
    "trainers = trainers.merge(first_start, on=['trainer_name'], how='left')"
   ]
  },
  {
   "cell_type": "code",
   "execution_count": null,
   "metadata": {},
   "outputs": [],
   "source": [
    "del df\n",
    "trainers.sort_values('n_entries', ascending=False).head(4)"
   ]
  },
  {
   "cell_type": "code",
   "execution_count": null,
   "metadata": {},
   "outputs": [],
   "source": [
    "from sklearn.linear_model import LinearRegression"
   ]
  },
  {
   "cell_type": "code",
   "execution_count": null,
   "metadata": {},
   "outputs": [],
   "source": [
    "trainers = trainers[trainers['n_entries'] > 100]"
   ]
  },
  {
   "cell_type": "code",
   "execution_count": null,
   "metadata": {},
   "outputs": [],
   "source": [
    "X = trainers.set_index('trainer_name')[['min_age',\n",
    "       'days_since_last_race_min', 'days_since_last_race_median',\n",
    "       'rest_after_dnf_median', 'distance_jumps', 'surface_changes',\n",
    "       'long_layoffs', 'first_long_age',\n",
    "       'median_first_start_age', 'median_first_race_distance']].fillna(0)\n",
    "\n",
    "y = trainers.set_index('trainer_name')[['dnf_per_entry']].fillna(0)"
   ]
  },
  {
   "cell_type": "code",
   "execution_count": null,
   "metadata": {},
   "outputs": [],
   "source": [
    "lr = LinearRegression()\n",
    "lr.fit(X, y)\n",
    "lr.score(X,y)"
   ]
  },
  {
   "cell_type": "code",
   "execution_count": null,
   "metadata": {},
   "outputs": [],
   "source": [
    "for col, coef in zip(X.columns, lr.coef_[0]):\n",
    "    print(f'{col}: {coef}')"
   ]
  },
  {
   "cell_type": "code",
   "execution_count": null,
   "metadata": {},
   "outputs": [],
   "source": [
    "plt.scatter(lr.predict(X), y)"
   ]
  },
  {
   "cell_type": "code",
   "execution_count": null,
   "metadata": {},
   "outputs": [],
   "source": [
    "y.shape"
   ]
  },
  {
   "cell_type": "code",
   "execution_count": null,
   "metadata": {},
   "outputs": [],
   "source": [
    "import boto3\n",
    "import pandas as pd\n",
    "import io"
   ]
  },
  {
   "cell_type": "code",
   "execution_count": null,
   "metadata": {},
   "outputs": [],
   "source": [
    "def read_file_from_s3(bucket_name: str, file_name: str, client: boto3.client) -> bytes:\n",
    "    obj = client.get_object(Bucket=bucket_name, Key=file_name)\n",
    "    data = obj['Body'].read()\n",
    "    \n",
    "    return data"
   ]
  },
  {
   "cell_type": "code",
   "execution_count": null,
   "metadata": {},
   "outputs": [],
   "source": [
    "s3 = boto3.resource('s3')\n",
    "for bucket in s3.buckets.all():\n",
    "    print(bucket.name)"
   ]
  },
  {
   "cell_type": "code",
   "execution_count": null,
   "metadata": {},
   "outputs": [],
   "source": [
    "s3 = boto3.client('s3')\n",
    "t = read_file_from_s3('hisa-data', 'injury/injury.csv', s3)\n",
    "df = pd.read_csv(io.BytesIO(t))\n",
    "df.head(2)"
   ]
  },
  {
   "cell_type": "code",
   "execution_count": null,
   "metadata": {},
   "outputs": [],
   "source": []
  },
  {
   "cell_type": "code",
   "execution_count": null,
   "metadata": {},
   "outputs": [],
   "source": []
  },
  {
   "cell_type": "code",
   "execution_count": null,
   "metadata": {},
   "outputs": [],
   "source": []
  },
  {
   "cell_type": "code",
   "execution_count": null,
   "metadata": {},
   "outputs": [],
   "source": []
  }
 ],
 "metadata": {
  "kernelspec": {
   "display_name": "venv",
   "language": "python",
   "name": "python3"
  },
  "language_info": {
   "codemirror_mode": {
    "name": "ipython",
    "version": 3
   },
   "file_extension": ".py",
   "mimetype": "text/x-python",
   "name": "python",
   "nbconvert_exporter": "python",
   "pygments_lexer": "ipython3",
   "version": "3.7.6"
  }
 },
 "nbformat": 4,
 "nbformat_minor": 2
}
